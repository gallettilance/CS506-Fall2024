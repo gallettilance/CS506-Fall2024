{
 "cells": [
  {
   "attachments": {},
   "cell_type": "markdown",
   "metadata": {},
   "source": [
    "# Worksheet 03\n",
    "\n",
    "Name: Han Li\n",
    "UID: U64338358\n",
    "\n",
    "### Topics\n",
    "\n",
    "- Intro to DS\n",
    "\n",
    "### Linear Algebra Review\n",
    "\n",
    "If you need a linear algebra review, please read through the [following pdf](https://github.com/gallettilance/CS506-Fall2024/raw/main/lecture_02/lecture_02_linear_algebra_review.pdf) before next class\n",
    "\n",
    "### Participation\n",
    "\n",
    "Please fill out the [following form](https://forms.gle/XHay822QrZvByirM8)\n",
    "\n",
    "### Intro to Data Science (ungraded)\n",
    "\n",
    "a) what property must a hypothesis have?"
   ]
  },
  {
   "cell_type": "markdown",
   "metadata": {},
   "source": [
    "A hypothesis must be testable and falsifiable. This means there should be a clear way to evaluate its validity through experiments or observations, and it should be possible to disprove it if evidence contradicts the hypothesis."
   ]
  },
  {
   "cell_type": "markdown",
   "metadata": {},
   "source": [
    "b) what examples would you have wanted to try?"
   ]
  },
  {
   "cell_type": "markdown",
   "metadata": {},
   "source": [
    "Boundary cases: To test the limits of the hypothesis.\n",
    "Edge cases: To explore situations that might challenge the hypothesis.\n",
    "Random examples: To ensure robustness.\n",
    "Extreme examples: To test the hypothesis under the most challenging scenarios."
   ]
  },
  {
   "cell_type": "markdown",
   "metadata": {},
   "source": [
    "c) Given the hypothesis (x, 2x, 3x), for each of the following, determine whether they are positive or negative examples:\n",
    "\n",
    "- (2, 4, 6)\n",
    "- (6, 8 , 10)\n",
    "- (1, 3, 5)"
   ]
  },
  {
   "cell_type": "markdown",
   "metadata": {},
   "source": [
    "(2, 4, 6)\n",
    "Hypothesis: (x, 2x, 3x)\n",
    "Here, x = 2, so the sequence is (2, 4, 6).\n",
    "\n",
    "This is a positive example because it follows the pattern (x, 2x, 3x).\n",
    "(6, 8, 10)\n",
    "Hypothesis: (x, 2x, 3x)\n",
    "There is no value of x that satisfies the pattern (x, 2x, 3x) for this sequence.\n",
    "\n",
    "This is a negative example.\n",
    "(1, 3, 5)\n",
    "Hypothesis: (x, 2x, 3x)\n",
    "Here, x = 1, but 2x should be 2, not 3.\n",
    "\n",
    "This is a negative example."
   ]
  },
  {
   "attachments": {},
   "cell_type": "markdown",
   "metadata": {},
   "source": [
    "d) Describe steps of a Data Science Workflow"
   ]
  },
  {
   "cell_type": "markdown",
   "metadata": {},
   "source": [
    "Problem Definition: Understand the problem and define the objective.\n",
    "Data Collection: Gather data relevant to the problem.\n",
    "Data Cleaning: Remove or correct errors, handle missing values, and prepare the data.\n",
    "Exploratory Data Analysis (EDA): Explore the data to find patterns, correlations, or insights.\n",
    "Feature Engineering: Select or create features that help improve model performance.\n",
    "Modeling: Apply machine learning algorithms or statistical models to the data.\n",
    "Evaluation: Assess the model's performance using metrics (e.g., accuracy, precision, recall).\n",
    "Deployment: Implement the model in a production environment.\n",
    "Monitoring: Track the performance of the model over time and update it as needed."
   ]
  },
  {
   "attachments": {},
   "cell_type": "markdown",
   "metadata": {},
   "source": [
    "e) Give a real world example for each of the following data types:\n",
    "\n",
    "- record\n",
    "- graph\n",
    "- image\n",
    "- text"
   ]
  },
  {
   "cell_type": "markdown",
   "metadata": {},
   "source": [
    "Record:\n",
    "Example: A customer purchase record in a retail store, containing details like item bought, price, and timestamp.\n",
    "\n",
    "Graph:\n",
    "Example: A social media network where nodes represent people and edges represent friendships or connections.\n",
    "\n",
    "Image:\n",
    "Example: A medical X-ray image used in radiology for diagnostic purposes.\n",
    "\n",
    "Text:\n",
    "Example: A product review on an e-commerce website, written by a customer."
   ]
  },
  {
   "attachments": {},
   "cell_type": "markdown",
   "metadata": {},
   "source": [
    "f) Give a real world example of unsupervised learning"
   ]
  },
  {
   "cell_type": "markdown",
   "metadata": {},
   "source": [
    "Clustering unkown customer data."
   ]
  },
  {
   "attachments": {},
   "cell_type": "markdown",
   "metadata": {},
   "source": [
    "g) Give a real world example of supervised learning"
   ]
  },
  {
   "cell_type": "markdown",
   "metadata": {},
   "source": [
    "Image recognition of cat."
   ]
  }
 ],
 "metadata": {
  "kernelspec": {
   "display_name": "Python 3 (ipykernel)",
   "language": "python",
   "name": "python3"
  },
  "language_info": {
   "codemirror_mode": {
    "name": "ipython",
    "version": 3
   },
   "file_extension": ".py",
   "mimetype": "text/x-python",
   "name": "python",
   "nbconvert_exporter": "python",
   "pygments_lexer": "ipython3",
   "version": "3.10.11"
  },
  "vscode": {
   "interpreter": {
    "hash": "e7370f93d1d0cde622a1f8e1c04877d8463912d04d973331ad4851f04de6915a"
   }
  }
 },
 "nbformat": 4,
 "nbformat_minor": 4
}
