{
 "cells": [
  {
   "attachments": {},
   "cell_type": "markdown",
   "metadata": {},
   "source": [
    "# Worksheet 03\n",
    "\n",
    "Name:  \n",
    "UID: \n",
    "\n",
    "### Topics\n",
    "\n",
    "- Intro to DS\n",
    "\n",
    "### Linear Algebra Review\n",
    "\n",
    "If you need a linear algebra review, please read through the [following pdf](https://github.com/gallettilance/CS506-Fall2024/raw/main/lecture_02/lecture_02_linear_algebra_review.pdf) before next class\n",
    "\n",
    "### Participation\n",
    "\n",
    "Please fill out the [following form](https://forms.gle/XHay822QrZvByirM8)\n",
    "\n",
    "### Intro to Data Science (ungraded)\n",
    "\n",
    "a) what property must a hypothesis have? It must be testable." 
   ]
  },
  {
   "cell_type": "markdown",
   "metadata": {},
   "source": []
  },
  {
   "cell_type": "markdown",
   "metadata": {},
   "source": [
    "b) what examples would you have wanted to try? Predicting house prices based on different features"
   ]
  },
  {
   "cell_type": "markdown",
   "metadata": {},
   "source": []
  },
  {
   "cell_type": "markdown",
   "metadata": {},
   "source": [
    "c) Given the hypothesis (x, 2x, 3x), for each of the following, determine whether they are positive or negative examples:\n (2,4,6) — Positive. This example fits the pattern of the hypothesis where the second value is twice the first, and the third value is three times the first.
(6,8,10)(6,8,10) — Negative. This does not fit the hypothesis because 88 is not twice 66 (it’s 8/6 ≈ 1.33) and 1010 is not three times 66 (it’s 10/6 ≈ 1.67).
(1,3,5)(1,3,5) — Negative. This does not fit the pattern as 33 is not twice 11 (it’s 3/1 = 3) and 55 is not three times 11 (it’s 5/1 = 5).",
    "\n",
    "- (2, 4, 6)\n",
    "- (6, 8 , 10)\n",
    "- (1, 3, 5)"
   ]
  },
  {
   "cell_type": "markdown",
   "metadata": {},
   "source": []
  },
  {
   "attachments": {},
   "cell_type": "markdown",
   "metadata": {},
   "source": [
    "d) Describe steps of a Data Science Workflow \n Problem Definition: Clearly define the problem you want to solve.
Data Collection: Gather relevant data from various sources.
Data Cleaning: Clean and preprocess the data to handle missing values, outliers, and inconsistencies.
Exploratory Data Analysis (EDA): Analyze the data to understand its structure, patterns, and relationships.
Feature Engineering: Select and create features that will improve the model's performance.
Model Selection: Choose appropriate algorithms and models for the problem.
Training: Train the model using the training dataset.
Evaluation: Evaluate the model's performance using metrics like accuracy, precision, recall, etc.
Hyperparameter Tuning: Adjust model parameters to improve performance.
Deployment: Implement the model into production for real-world use.
Monitoring and Maintenance: Continuously monitor the model's performance and update it as needed."
   ]
  },
  {
   "cell_type": "markdown",
   "metadata": {},
   "source": []
  },
  {
   "attachments": {},
   "cell_type": "markdown",
   "metadata": {},
   "source": [
    "e) Give a real world example for each of the following data types:\n",
    "\n",
    "- record\n A patient’s medical history in a hospital database",
    "- graph\n A social network showing connections between users.",
    "- image\n Satellite imagery used for land classification.",
    "- text\n Customer reviews from an e-commerce website."
   ]
  },
  {
   "cell_type": "markdown",
   "metadata": {},
   "source": []
  },
  {
   "attachments": {},
   "cell_type": "markdown",
   "metadata": {},
   "source": [
    "f) Give a real world example of unsupervised learning\n Clustering customer data to identify different segments or groups within a customer base without predefined labels. For instance, grouping customers based on their purchasing behavior to target marketing strategies."
   ]
  },
  {
   "cell_type": "markdown",
   "metadata": {},
   "source": []
  },
  {
   "attachments": {},
   "cell_type": "markdown",
   "metadata": {},
   "source": [
    "g) Give a real world example of supervised learning\n Predicting house prices based on features such as location, size, and number of bedrooms. The model is trained on historical data where the prices are known (labeled data), and it learns to predict prices for new houses based on these features."
   ]
  },
  {
   "cell_type": "markdown",
   "metadata": {},
   "source": []
  }
 ],
 "metadata": {
  "kernelspec": {
   "display_name": "Python 3",
   "language": "python",
   "name": "python3"
  },
  "language_info": {
   "codemirror_mode": {
    "name": "ipython",
    "version": 3
   },
   "file_extension": ".py",
   "mimetype": "text/x-python",
   "name": "python",
   "nbconvert_exporter": "python",
   "pygments_lexer": "ipython3",
   "version": "3.11.1"
  },
  "orig_nbformat": 4,
  "vscode": {
   "interpreter": {
    "hash": "e7370f93d1d0cde622a1f8e1c04877d8463912d04d973331ad4851f04de6915a"
   }
  }
 },
 "nbformat": 4,
 "nbformat_minor": 2
}
