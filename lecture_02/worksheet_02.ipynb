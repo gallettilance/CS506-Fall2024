{
 "cells": [
  {
   "attachments": {},
   "cell_type": "markdown",
   "metadata": {},
   "source": [
    "# Worksheet 03\n",
    "\n",
    "Name:  Wei Zhu  \n",
    "UID: U74791886\n",
    "\n",
    "### Topics\n",
    "\n",
    "- Intro to DS\n",
    "\n",
    "### Linear Algebra Review\n",
    "\n",
    "If you need a linear algebra review, please read through the [following pdf](https://github.com/gallettilance/CS506-Fall2024/raw/main/lecture_02/lecture_02_linear_algebra_review.pdf) before next class\n",
    "\n",
    "### Participation\n",
    "\n",
    "Please fill out the [following form](https://forms.gle/XHay822QrZvByirM8)\n",
    "\n",
    "### Intro to Data Science (ungraded)\n",
    "\n",
    "a) what property must a hypothesis have?"
   ]
  },
  {
   "cell_type": "markdown",
   "metadata": {},
   "source": [
    "the hypothesis must be able to be tested and falsified."
   ]
  },
  {
   "cell_type": "markdown",
   "metadata": {},
   "source": [
    "b) what examples would you have wanted to try?"
   ]
  },
  {
   "cell_type": "markdown",
   "metadata": {},
   "source": []
  },
  {
   "cell_type": "markdown",
   "metadata": {},
   "source": [
    "c) Given the hypothesis (x, 2x, 3x), for each of the following, determine whether they are positive or negative examples:\n",
    "\n",
    "- (2, 4, 6)\n",
    "- (6, 8 , 10)\n",
    "- (1, 3, 5)"
   ]
  },
  {
   "cell_type": "markdown",
   "metadata": {},
   "source": [
    "- (2, 4, 6): positive example, because 4 = 2 * 2, 6 = 3 * 2\n",
    "- (6, 8 , 10): negative example, because 8 != 2 * 6, 10 != 3 * 6\n",
    "- (1, 3, 5): negative example, because 3 != 2 * 1, 5 != 3 * 1"
   ]
  },
  {
   "attachments": {},
   "cell_type": "markdown",
   "metadata": {},
   "source": [
    "d) Describe steps of a Data Science Workflow"
   ]
  },
  {
   "cell_type": "markdown",
   "metadata": {},
   "source": [
    "Define the problem. Collect the data. Understand and clean/visualize the data. Split data into training, validation, and test sets. \n",
    "Select a model. Train the model. Evaluate the model. Tune the model to improve performance. Communicate the results. Deploy the model.\n",
    "Monitor the model's performance in production. Collect new data to retrain the model. Visual the results."
   ]
  },
  {
   "attachments": {},
   "cell_type": "markdown",
   "metadata": {},
   "source": [
    "e) Give a real world example for each of the following data types:\n",
    "\n",
    "- record\n",
    "- graph\n",
    "- image\n",
    "- text"
   ]
  },
  {
   "cell_type": "markdown",
   "metadata": {},
   "source": [
    "record: customer purchase history\n",
    "graph: social network\n",
    "image: cat image\n",
    "text: news article"
   ]
  },
  {
   "attachments": {},
   "cell_type": "markdown",
   "metadata": {},
   "source": [
    "f) Give a real world example of unsupervised learning"
   ]
  },
  {
   "cell_type": "markdown",
   "metadata": {},
   "source": [
    "clustering customer data to identify different customer segments based on their behavior and preferences like purchasing history, browsing history, etc."
   ]
  },
  {
   "attachments": {},
   "cell_type": "markdown",
   "metadata": {},
   "source": [
    "g) Give a real world example of supervised learning"
   ]
  },
  {
   "cell_type": "markdown",
   "metadata": {},
   "source": [
    "predicting house prices based on features like location, size, number of bedrooms, etc. there is a continuous target variable (house prices).\n",
    "there is a labeled dataset (house prices), the target variable, and features (location, size, number of bedrooms, etc) make it a supervised learning problem.\n",
    "the goal is to train the model to learn the relationship between the features of the house and the house price to predict the house prices for new houses based on the features."
   ]
  }
 ],
 "metadata": {
  "kernelspec": {
   "display_name": "Python 3",
   "language": "python",
   "name": "python3"
  },
  "language_info": {
   "codemirror_mode": {
    "name": "ipython",
    "version": 3
   },
   "file_extension": ".py",
   "mimetype": "text/x-python",
   "name": "python",
   "nbconvert_exporter": "python",
   "pygments_lexer": "ipython3",
   "version": "3.11.1"
  },
  "orig_nbformat": 4,
  "vscode": {
   "interpreter": {
    "hash": "e7370f93d1d0cde622a1f8e1c04877d8463912d04d973331ad4851f04de6915a"
   }
  }
 },
 "nbformat": 4,
 "nbformat_minor": 2
}
