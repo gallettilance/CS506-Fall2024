{
 "cells": [
  {
   "attachments": {},
   "cell_type": "markdown",
   "metadata": {},
   "source": [
    "# Worksheet\n",
    "\n",
    "[FORM](https://forms.gle/uV4XBp3pNBktVdHU8)\n",
    "\n",
    "(Note: the rest of this worksheet is ungraded).\n",
    "\n",
    "## Cost Function\n",
    "\n",
    "Solving Data Science problems often starts by defining a metric with which to evaluate solutions were you able to find some. This metric is called a cost function. Data Science then backtracks and tries to find a process / algorithm to find solutions that can optimize for that cost function.\n",
    "\n",
    "For example suppose you are asked to cluster three points A, B, C into two non-empty clusters. If someone gave you the solution `{A, B}, {C}`, how would you evaluate that this is a good solution?\n",
    "\n",
    "Notice that because the clusters need to be non-empty and all points must be assigned to a cluster, it must be that two of the three points will be together in one cluster and the third will be alone in the other cluster.\n",
    "\n",
    "In the above solution, if A and B are closer than A and C, and B and C, then this is a good solution. The smaller the distance between the two points in the same cluster (here A and B), the better the solution. So we can define our cost function to be that distance (between A and B here)!\n",
    "\n",
    "The algorithm / process would involve clustering together the two closest points and put the third in its own cluster. This process optimizes for that cost function because no other pair of points could have a lower distance (although it could equal it)."
   ]
  },
  {
   "cell_type": "markdown",
   "metadata": {},
   "source": [
    "### K means"
   ]
  },
  {
   "cell_type": "markdown",
   "metadata": {},
   "source": [
    "a) (1-dimensional clustering) Walk through Lloyd's algorithm step by step on the following dataset:\n",
    "\n",
    "`[0, .5, 1.5, 2, 6, 6.5, 7]` (note: each of these are 1-dimensional data points)\n",
    "\n",
    "Given the initial centroids:\n",
    "\n",
    "`[0, 2]`"
   ]
  },
  {
   "cell_type": "markdown",
   "metadata": {},
   "source": []
  },
  {
   "cell_type": "markdown",
   "metadata": {},
   "source": [
    "b) Describe in plain english what the cost function for k means is."
   ]
  },
  {
   "cell_type": "markdown",
   "metadata": {},
   "source": []
  },
  {
   "cell_type": "markdown",
   "metadata": {},
   "source": [
    "c) For the same number of clusters K, why could there be very different solutions to the K means algorithm on a given dataset?"
   ]
  },
  {
   "cell_type": "markdown",
   "metadata": {},
   "source": []
  },
  {
   "cell_type": "markdown",
   "metadata": {},
   "source": [
    "d) Do you think Lloyd's Algorithm always converges?"
   ]
  },
  {
   "cell_type": "markdown",
   "metadata": {},
   "source": [
    "while Lloyd's Algorithm converges (it reaches a stable state), it does not guarantee convergence to a global optimum. Instead, it converges to a local minimum, and its performance can depend heavily on the initialization of centroids."
   ]
  },
  {
   "attachments": {},
   "cell_type": "markdown",
   "metadata": {},
   "source": [
    "e) Follow along in class the implementation of Kmeans"
   ]
  },
  {
   "cell_type": "code",
   "execution_count": 2,
   "metadata": {},
   "outputs": [],
   "source": [
    "import numpy as np\n",
    "from PIL import Image as im\n",
    "import matplotlib.pyplot as plt\n",
    "import sklearn.datasets as datasets\n",
    "\n",
    "centers = [[0, 0], [2, 2], [-3, 2], [2, -4]]\n",
    "X, _ = datasets.make_blobs(n_samples=300, centers=centers, cluster_std=1, random_state=0)\n",
    "\n",
    "class KMeans:\n",
    "    def __init__(self, data, k):\n",
    "        self.data = data\n",
    "        self.k = k\n",
    "        self.assignment = [-1 for _ in range(len(data))]\n",
    "        self.snaps = []\n",
    "\n",
    "    def snap(self, centers):\n",
    "        TEMPFILE = \"temp.png\"\n",
    "\n",
    "        fig, ax = plt.subplots()\n",
    "        ax.scatter(self.data[:, 0], self.data[:, 1], c=self.assignment, cmap='viridis')\n",
    "        ax.scatter(centers[:, 0], centers[:, 1], c='red', marker='X')  # Different marker for centroids\n",
    "        fig.savefig(TEMPFILE)\n",
    "        plt.close()\n",
    "        self.snaps.append(im.fromarray(np.asarray(im.open(TEMPFILE))))\n",
    "\n",
    "    def initialize(self):\n",
    "        # Randomly select k points as initial centers\n",
    "        indices = np.random.choice(len(self.data), self.k, replace=False)\n",
    "        return self.data[indices]\n",
    "\n",
    "    def make_cluster(self, centers):\n",
    "        # Assign each point to the nearest center\n",
    "        for i, point in enumerate(self.data):\n",
    "            distances = np.linalg.norm(point - centers, axis=1)\n",
    "            self.assignment[i] = np.argmin(distances)\n",
    "\n",
    "    def compute_centers(self):\n",
    "        # Compute new centers as the mean of the assigned points\n",
    "        new_centers = []\n",
    "        for i in range(self.k):\n",
    "            cluster_points = self.data[np.array(self.assignment) == i]\n",
    "            if len(cluster_points) > 0:\n",
    "                new_centers.append(cluster_points.mean(axis=0))\n",
    "            else:\n",
    "                new_centers.append(np.random.rand(2))  # Handle empty clusters\n",
    "        return np.array(new_centers)\n",
    "\n",
    "    def are_same(self, old_centers, new_centers):\n",
    "        # Check if the centers have changed\n",
    "        return np.all(old_centers == new_centers)\n",
    "\n",
    "    def lloyds(self):\n",
    "        centers = self.initialize()\n",
    "        self.snap(centers)  # Snap initial state\n",
    "        while True:\n",
    "            self.make_cluster(centers)\n",
    "            new_centers = self.compute_centers()\n",
    "            self.snap(new_centers)  # Snap after updating centers\n",
    "            if self.are_same(centers, new_centers):\n",
    "                break  # Exit if centers do not change\n",
    "            centers = new_centers\n",
    "            \n",
    "\n",
    "kmeans = KMeans(X, 4)\n",
    "kmeans.lloyds()\n",
    "images = kmeans.snaps\n",
    "\n",
    "images[0].save(\n",
    "    'kmeans.gif',\n",
    "    optimize=False,\n",
    "    save_all=True,\n",
    "    append_images=images[1:],\n",
    "    loop=0,\n",
    "    duration=500\n",
    ")"
   ]
  },
  {
   "cell_type": "code",
   "execution_count": 2,
   "metadata": {},
   "outputs": [
    {
     "ename": "AttributeError",
     "evalue": "'numpy.ndarray' object has no attribute 'type'",
     "output_type": "error",
     "traceback": [
      "\u001b[0;31m---------------------------------------------------------------------------\u001b[0m",
      "\u001b[0;31mAttributeError\u001b[0m                            Traceback (most recent call last)",
      "Cell \u001b[0;32mIn[2], line 11\u001b[0m\n\u001b[1;32m      8\u001b[0m centers \u001b[38;5;241m=\u001b[39m [[\u001b[38;5;241m0\u001b[39m, \u001b[38;5;241m0\u001b[39m], [\u001b[38;5;241m2\u001b[39m, \u001b[38;5;241m2\u001b[39m], [\u001b[38;5;241m-\u001b[39m\u001b[38;5;241m3\u001b[39m, \u001b[38;5;241m2\u001b[39m], [\u001b[38;5;241m2\u001b[39m, \u001b[38;5;241m-\u001b[39m\u001b[38;5;241m4\u001b[39m]]\n\u001b[1;32m      9\u001b[0m X, _ \u001b[38;5;241m=\u001b[39m datasets\u001b[38;5;241m.\u001b[39mmake_blobs(n_samples\u001b[38;5;241m=\u001b[39m\u001b[38;5;241m300\u001b[39m, centers\u001b[38;5;241m=\u001b[39mcenters, cluster_std\u001b[38;5;241m=\u001b[39m\u001b[38;5;241m1\u001b[39m, random_state\u001b[38;5;241m=\u001b[39m\u001b[38;5;241m0\u001b[39m)\n\u001b[0;32m---> 11\u001b[0m \u001b[38;5;28mprint\u001b[39m(\u001b[43mX\u001b[49m\u001b[38;5;241;43m.\u001b[39;49m\u001b[43mtype\u001b[49m())\n\u001b[1;32m     12\u001b[0m \u001b[38;5;28;01mclass\u001b[39;00m \u001b[38;5;21;01mKMeans\u001b[39;00m():\n\u001b[1;32m     14\u001b[0m     \u001b[38;5;28;01mdef\u001b[39;00m \u001b[38;5;21m__init__\u001b[39m(\u001b[38;5;28mself\u001b[39m, data, k):\n",
      "\u001b[0;31mAttributeError\u001b[0m: 'numpy.ndarray' object has no attribute 'type'"
     ]
    }
   ],
   "source": [
    "### Professor's code\n",
    "\n",
    "import numpy as np\n",
    "from PIL import Image as im\n",
    "import matplotlib.pyplot as plt\n",
    "import sklearn.datasets as datasets\n",
    "\n",
    "centers = [[0, 0], [2, 2], [-3, 2], [2, -4]]\n",
    "X, _ = datasets.make_blobs(n_samples=300, centers=centers, cluster_std=1, random_state=0)\n",
    "\n",
    "class KMeans():\n",
    "\n",
    "    def __init__(self, data, k):\n",
    "        self.data = data\n",
    "        self.k = k\n",
    "        self.assignment = [-1 for _ in range(len(data))]\n",
    "        self.snaps = []\n",
    "    \n",
    "    def snap(self, centers):\n",
    "        TEMPFILE = \"temp.png\"\n",
    "\n",
    "        fig, ax = plt.subplots()\n",
    "        ax.scatter(X[:, 0], X[:, 1], c=self.assignment)\n",
    "        ax.scatter(centers[:,0], centers[:, 1], c='r')\n",
    "        fig.savefig(TEMPFILE)\n",
    "        plt.close()\n",
    "        self.snaps.append(im.fromarray(np.asarray(im.open(TEMPFILE))))\n",
    "\n",
    "    def isunassigned(self, i):\n",
    "        return self.assignment[i] == -1\n",
    "\n",
    "    def initialize(self):\n",
    "        return self.data[np.random.choice(len(self.data) - 1, size=self.k, replace=False)]\n",
    "\n",
    "    def make_clusters(self, centers):\n",
    "        for i in range(len(self.assignment)):\n",
    "            for j in range(self.k):\n",
    "                if self.isunassigned(i):\n",
    "                    self.assignment[i] = j\n",
    "                    dist = self.dist(centers[j], self.data[i])\n",
    "                else:\n",
    "                    new_dist = self.dist(centers[j], self.data[i])\n",
    "                    if new_dist < dist:\n",
    "                        self.assignment[i] = j\n",
    "                        dist = new_dist\n",
    "                    \n",
    "        \n",
    "    def compute_centers(self):\n",
    "        centers = []\n",
    "        for i in range(self.k):\n",
    "            cluster = []\n",
    "            for j in range(len(self.assignment)):\n",
    "                if self.assignment[j] == i:\n",
    "                    cluster.append(self.data[j])\n",
    "            centers.append(np.mean(np.array(cluster), axis=0))\n",
    "\n",
    "        return np.array(centers)\n",
    "    \n",
    "    def unassign(self):\n",
    "        self.assignment = [-1 for _ in range(len(self.data))]\n",
    "\n",
    "    def are_diff(self, centers, new_centers):\n",
    "        for i in range(self.k):\n",
    "            if self.dist(centers[i], new_centers[i]) != 0:\n",
    "                return True\n",
    "        return False\n",
    "\n",
    "    def dist(self, x, y):\n",
    "        # Euclidean distance\n",
    "        return sum((x - y)**2) ** (1/2)\n",
    "\n",
    "    def lloyds(self):\n",
    "        centers = self.initialize()\n",
    "        self.make_clusters(centers)\n",
    "        new_centers = self.compute_centers()\n",
    "        self.snap(new_centers)\n",
    "        while self.are_diff(centers, new_centers):\n",
    "            self.unassign()\n",
    "            centers = new_centers\n",
    "            self.make_clusters(centers)\n",
    "            new_centers = self.compute_centers()\n",
    "            self.snap(new_centers)\n",
    "        return\n",
    "\n",
    "\n",
    "kmeans = KMeans(X, 4)\n",
    "kmeans.lloyds()\n",
    "images = kmeans.snaps\n",
    "\n",
    "images[0].save(\n",
    "    'kmeans.gif',\n",
    "    optimize=False,\n",
    "    save_all=True,\n",
    "    append_images=images[1:],\n",
    "    loop=0,\n",
    "    duration=500\n",
    ")"
   ]
  }
 ],
 "metadata": {
  "kernelspec": {
   "display_name": "Python 3",
   "language": "python",
   "name": "python3"
  },
  "language_info": {
   "codemirror_mode": {
    "name": "ipython",
    "version": 3
   },
   "file_extension": ".py",
   "mimetype": "text/x-python",
   "name": "python",
   "nbconvert_exporter": "python",
   "pygments_lexer": "ipython3",
   "version": "3.12.0"
  },
  "orig_nbformat": 4,
  "vscode": {
   "interpreter": {
    "hash": "76ca05dc3ea24b2e3b98cdb7774adfbb40773424bf5109b477fd793f623715af"
   }
  }
 },
 "nbformat": 4,
 "nbformat_minor": 2
}
