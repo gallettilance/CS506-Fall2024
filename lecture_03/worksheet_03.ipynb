{
 "cells": [
  {
   "attachments": {},
   "cell_type": "markdown",
   "metadata": {},
   "source": [
    "# Worksheet\n",
    "\n",
    "[FORM](https://forms.gle/uV4XBp3pNBktVdHU8)\n",
    "\n",
    "(Note: the rest of this worksheet is ungraded).\n",
    "\n",
    "## Cost Function\n",
    "\n",
    "Solving Data Science problems often starts by defining a metric with which to evaluate solutions were you able to find some. This metric is called a cost function. Data Science then backtracks and tries to find a process / algorithm to find solutions that can optimize for that cost function.\n",
    "\n",
    "For example suppose you are asked to cluster three points A, B, C into two non-empty clusters. If someone gave you the solution `{A, B}, {C}`, how would you evaluate that this is a good solution?\n",
    "\n",
    "Notice that because the clusters need to be non-empty and all points must be assigned to a cluster, it must be that two of the three points will be together in one cluster and the third will be alone in the other cluster.\n",
    "\n",
    "In the above solution, if A and B are closer than A and C, and B and C, then this is a good solution. The smaller the distance between the two points in the same cluster (here A and B), the better the solution. So we can define our cost function to be that distance (between A and B here)!\n",
    "\n",
    "The algorithm / process would involve clustering together the two closest points and put the third in its own cluster. This process optimizes for that cost function because no other pair of points could have a lower distance (although it could equal it)."
   ]
  },
  {
   "cell_type": "markdown",
   "metadata": {},
   "source": [
    "### K means"
   ]
  },
  {
   "cell_type": "markdown",
   "metadata": {},
   "source": [
    "a) (1-dimensional clustering) Walk through Lloyd's algorithm step by step on the following dataset:\n",
    "\n",
    "`[0, .5, 1.5, 2, 6, 6.5, 7]` (note: each of these are 1-dimensional data points)\n",
    "\n",
    "Given the initial centroids:\n",
    "\n",
    "`[0, 2]`"
   ]
  },
  {
   "cell_type": "markdown",
   "metadata": {},
   "source": [
    "Step 1: Assign each point to the nearest centroid:\n",
    "For centroid 0: [0, .5] are closer to 0 than 2.\n",
    "For centroid 2: [1.5, 2, 6, 6.5, 7] are closer to 2 than 0.\n",
    "Clusters:\n",
    "Cluster 1: [0, .5]\n",
    "Cluster 2: [1.5, 2, 6, 6.5, 7]\n",
    "\n",
    "Step 2: Recompute Centroids\n",
    "For Cluster 1: New centroid = mean of [0, .5] = (0 + .5) / 2 = 0.25.\n",
    "For Cluster 2: New centroid = mean of [1.5, 2, 6, 6.5, 7] = (1.5 + 2 + 6 + 6.5 + 7) / 5 = 4.6.\n",
    "\n",
    "Step 3: Re-Assign Points to the new Centroids\n",
    "For centroid 0.25: [0, .5] are still closer to 0.25 than 4.6.\n",
    "For centroid 4.6: [1.5, 2, 6, 6.5, 7] are closer to 4.6 than 0.25.\n",
    "New clusters:\n",
    "Cluster 1: [0, .5]\n",
    "Cluster 2: [1.5, 2, 6, 6.5, 7]\n",
    "\n",
    "Step 4: Recompute Centroids\n",
    "Same centroids as before: 0.25 and 4.6.\n",
    "Since the centroids didn’t change, the algorithm converges, and the final clusters are:\n",
    "Cluster 1: [0, .5]\n",
    "Cluster 2: [1.5, 2, 6, 6.5, 7]"
   ]
  },
  {
   "cell_type": "markdown",
   "metadata": {},
   "source": [
    "b) Describe in plain english what the cost function for k means is."
   ]
  },
  {
   "cell_type": "markdown",
   "metadata": {},
   "source": [
    "The cost function in K-Means is the sum of squared distances between each data point and its assigned centroid. The goal of the algorithm is to minimize this cost function by finding the optimal positions for the centroids, which minimizes the distance between the points in the clusters and their centroids."
   ]
  },
  {
   "cell_type": "markdown",
   "metadata": {},
   "source": [
    "c) For the same number of clusters K, why could there be very different solutions to the K means algorithm on a given dataset?"
   ]
  },
  {
   "cell_type": "markdown",
   "metadata": {},
   "source": [
    "K-Means can produce different results depending on:\n",
    "\n",
    "Initial centroids: The algorithm is sensitive to the starting positions of centroids. Different initial positions can lead to different final clusters.\n",
    "\n",
    "Local minima: K-Means optimizes the cost function but can get stuck in local minima. Different initializations might result in different outcomes.\n",
    "\n",
    "Data structure: If clusters are overlapping or the data has irregular shapes, K-Means might split the data in various ways."
   ]
  },
  {
   "cell_type": "markdown",
   "metadata": {},
   "source": [
    "d) Do you think Lloyd's Algorithm always converges?"
   ]
  },
  {
   "cell_type": "markdown",
   "metadata": {},
   "source": [
    "Yes, Lloyd’s Algorithm always converges. However, while the algorithm always converges (i.e., it will stop when the centroids no longer change), it may not always converge to the global minimum. It might converge to a local minimum depending on the initial centroid positions."
   ]
  },
  {
   "attachments": {},
   "cell_type": "markdown",
   "metadata": {},
   "source": [
    "e) Follow along in class the implementation of Kmeans"
   ]
  },
  {
   "cell_type": "code",
   "execution_count": null,
   "metadata": {},
   "outputs": [],
   "source": [
    "import numpy as np\n",
    "from PIL import Image as im\n",
    "import matplotlib.pyplot as plt\n",
    "import sklearn.datasets as datasets\n",
    "\n",
    "centers = [[0, 0], [2, 2], [-3, 2], [2, -4]]\n",
    "X, _ = datasets.make_blobs(n_samples=300, centers=centers, cluster_std=1, random_state=0)\n",
    "\n",
    "class KMeans():\n",
    "\n",
    "    def __init__(self, data, k):\n",
    "        self.data = data\n",
    "        self.k = k\n",
    "        self.assignment = [-1 for _ in range(len(data))]\n",
    "        self.snaps = []\n",
    "    \n",
    "    def snap(self, centers):\n",
    "        TEMPFILE = \"temp.png\"\n",
    "\n",
    "        fig, ax = plt.subplots()\n",
    "        ax.scatter(X[:, 0], X[:, 1], c=self.assignment)\n",
    "        ax.scatter(centers[:,0], centers[:, 1], c='r')\n",
    "        fig.savefig(TEMPFILE)\n",
    "        plt.close()\n",
    "        self.snaps.append(im.fromarray(np.asarray(im.open(TEMPFILE))))\n",
    "\n",
    "\n",
    "    def lloyds(self):\n",
    "        # Randomly initialize k centroids\n",
    "        centers = self.data[np.random.choice(range(len(self.data)), self.k, replace=False)]\n",
    "        \n",
    "        while True:\n",
    "            # Assign each data point to the nearest centroid\n",
    "            new_assignment = []\n",
    "            for point in self.data:\n",
    "                distances = [np.linalg.norm(point - center) for center in centers]\n",
    "                new_assignment.append(np.argmin(distances))\n",
    "            \n",
    "            self.assignment = new_assignment\n",
    "            self.snap(centers)\n",
    "            \n",
    "            # Recompute the centroids\n",
    "            new_centers = np.array([self.data[np.array(self.assignment) == i].mean(axis=0) for i in range(self.k)])\n",
    "            \n",
    "            # If the centroids haven't changed, break the loop\n",
    "            if np.all(centers == new_centers):\n",
    "                break\n",
    "            centers = new_centers\n",
    "        return\n",
    "            \n",
    "\n",
    "kmeans = KMeans(X, 4)\n",
    "kmeans.lloyds()\n",
    "images = kmeans.snaps\n",
    "\n",
    "images[0].save(\n",
    "    'kmeans.gif',\n",
    "    optimize=False,\n",
    "    save_all=True,\n",
    "    append_images=images[1:],\n",
    "    loop=0,\n",
    "    duration=500\n",
    ")"
   ]
  }
 ],
 "metadata": {
  "kernelspec": {
   "display_name": "Python 3",
   "language": "python",
   "name": "python3"
  },
  "language_info": {
   "codemirror_mode": {
    "name": "ipython",
    "version": 3
   },
   "file_extension": ".py",
   "mimetype": "text/x-python",
   "name": "python",
   "nbconvert_exporter": "python",
   "pygments_lexer": "ipython3",
   "version": "3.10.11"
  },
  "orig_nbformat": 4,
  "vscode": {
   "interpreter": {
    "hash": "76ca05dc3ea24b2e3b98cdb7774adfbb40773424bf5109b477fd793f623715af"
   }
  }
 },
 "nbformat": 4,
 "nbformat_minor": 2
}
