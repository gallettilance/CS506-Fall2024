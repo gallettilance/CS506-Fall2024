{
 "cells": [
  {
   "attachments": {},
   "cell_type": "markdown",
   "metadata": {},
   "source": [
    "# Worksheet\n",
    "\n",
    "[FORM](https://forms.gle/VsMXb6bE83RP95R37)"
   ]
  },
  {
   "cell_type": "markdown",
   "metadata": {},
   "source": [
    "### Model Evaluation\n",
    "\n",
    "Write a function to generate the confusion matrix for a list of actual classes and a list of predicted classes"
   ]
  },
  {
   "cell_type": "code",
   "execution_count": 2,
   "metadata": {},
   "outputs": [
    {
     "name": "stdout",
     "output_type": "stream",
     "text": [
      "{'TP': 2, 'TN': 4, 'FP': 3, 'FN': 1}\n"
     ]
    }
   ],
   "source": [
    "actual_class = [\"Yes\", \"No\", \"No\", \"Yes\", \"No\", \"No\", \"Yes\", \"No\", \"No\", \"No\"]\n",
    "predicted_class = [\"Yes\", \"No\", \"Yes\", \"No\", \"No\", \"No\", \"Yes\", \"Yes\", \"Yes\", \"No\"]\n",
    "\n",
    "def confusion_matrix(actual, predicted):\n",
    "    TP = TN = FP = FN = 0\n",
    "    \n",
    "    for a, p in zip(actual, predicted):\n",
    "        if a == \"Yes\" and p == \"Yes\":\n",
    "            TP += 1\n",
    "        elif a == \"No\" and p == \"No\":\n",
    "            TN += 1\n",
    "        elif a == \"No\" and p == \"Yes\":\n",
    "            FP += 1\n",
    "        elif a == \"Yes\" and p == \"No\":\n",
    "            FN += 1\n",
    "    \n",
    "    return {\"TP\": TP, \"TN\": TN, \"FP\": FP, \"FN\": FN}\n",
    "\n",
    "print(confusion_matrix(actual_class, predicted_class))"
   ]
  },
  {
   "cell_type": "markdown",
   "metadata": {},
   "source": [
    "Assume you have the following Cost Matrix:\n",
    "\n",
    "|            | predicted = Y | predicted = N |\n",
    "|------------|---------------|---------------|\n",
    "| actual = Y |       -1      |       5       |\n",
    "| actual = N |        10     |       0       |\n",
    "\n",
    "What is the cost of the above classification?"
   ]
  },
  {
   "cell_type": "code",
   "execution_count": 3,
   "metadata": {},
   "outputs": [
    {
     "name": "stdout",
     "output_type": "stream",
     "text": [
      "Total cost of the classification: 33\n"
     ]
    }
   ],
   "source": [
    "actual_class = [\"Yes\", \"No\", \"No\", \"Yes\", \"No\", \"No\", \"Yes\", \"No\", \"No\", \"No\"]\n",
    "predicted_class = [\"Yes\", \"No\", \"Yes\", \"No\", \"No\", \"No\", \"Yes\", \"Yes\", \"Yes\", \"No\"]\n",
    "\n",
    "def confusion_matrix(actual, predicted):\n",
    "    TP = TN = FP = FN = 0\n",
    "    \n",
    "    for a, p in zip(actual, predicted):\n",
    "        if a == \"Yes\" and p == \"Yes\":\n",
    "            TP += 1\n",
    "        elif a == \"No\" and p == \"No\":\n",
    "            TN += 1\n",
    "        elif a == \"No\" and p == \"Yes\":\n",
    "            FP += 1\n",
    "        elif a == \"Yes\" and p == \"No\":\n",
    "            FN += 1\n",
    "    \n",
    "    return {\"TP\": TP, \"TN\": TN, \"FP\": FP, \"FN\": FN}\n",
    "\n",
    "conf_matrix = confusion_matrix(actual_class, predicted_class)\n",
    "\n",
    "# Cost matrix\n",
    "cost_matrix = {\n",
    "    \"TP\": -1,  # actual = Y, predicted = Y\n",
    "    \"FN\": 5,   # actual = Y, predicted = N\n",
    "    \"FP\": 10,  # actual = N, predicted = Y\n",
    "    \"TN\": 0    # actual = N, predicted = N\n",
    "}\n",
    "\n",
    "# Calculate total cost\n",
    "total_cost = (conf_matrix[\"TP\"] * cost_matrix[\"TP\"] +\n",
    "              conf_matrix[\"FN\"] * cost_matrix[\"FN\"] +\n",
    "              conf_matrix[\"FP\"] * cost_matrix[\"FP\"] +\n",
    "              conf_matrix[\"TN\"] * cost_matrix[\"TN\"])\n",
    "\n",
    "print(\"Total cost of the classification:\", total_cost)"
   ]
  },
  {
   "cell_type": "markdown",
   "metadata": {},
   "source": [
    "\\[ P(M|S) = \\frac{P(S|M) \\cdot P(M)}{P(S)} \\]\n",
    "\n",
    "Given:\n",
    "\n",
    "\\[ P(S|M) = 0.5 \\] (Meningitis causes a stiff neck 50% of the time)  \n",
    "\\[ P(M) = \\frac{1}{50000} \\] (Prior probability of any patient having meningitis)  \n",
    "\\[ P(S) = \\frac{1}{20} \\] (Prior probability of any patient having a stiff neck)  \n",
    "\n",
    "Now, we can calculate \\( P(M|S) \\):\n",
    "\n",
    "\\[ P(M|S) = \\frac{P(S|M) \\cdot P(M)}{P(S)} \\]  \n",
    "\\[ P(M|S) = \\frac{0.5 \\cdot \\frac{1}{50000}}{\\frac{1}{20}} \\]  \n",
    "\\[ P(M|S) = \\frac{0.5 \\cdot \\frac{1}{50000}}{\\frac{1}{20}} = \\frac{0.5}{50000} \\times 20 \\]  \n",
    "\\[ P(M|S) = \\frac{0.5 \\times 20}{50000} \\]  \n",
    "\\[ P(M|S) = \\frac{10}{50000} \\]  \n",
    "\\[ P(M|S) = \\frac{1}{5000} \\]\n",
    "\n",
    "So, the probability that a patient has meningitis given that they have a stiff neck is \\( \\frac{1}{5000} \\)."
   ]
  }
 ],
 "metadata": {
  "kernelspec": {
   "display_name": "Python 3",
   "language": "python",
   "name": "python3"
  },
  "language_info": {
   "codemirror_mode": {
    "name": "ipython",
    "version": 3
   },
   "file_extension": ".py",
   "mimetype": "text/x-python",
   "name": "python",
   "nbconvert_exporter": "python",
   "pygments_lexer": "ipython3",
   "version": "3.11.9"
  },
  "orig_nbformat": 4,
  "vscode": {
   "interpreter": {
    "hash": "e7370f93d1d0cde622a1f8e1c04877d8463912d04d973331ad4851f04de6915a"
   }
  }
 },
 "nbformat": 4,
 "nbformat_minor": 2
}
