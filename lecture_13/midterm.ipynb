{
 "cells": [
  {
   "cell_type": "markdown",
   "metadata": {},
   "source": [
    "# Libraries"
   ]
  },
  {
   "cell_type": "code",
   "execution_count": 7,
   "metadata": {},
   "outputs": [],
   "source": [
    "import pickle\n",
    "import pandas as pd\n",
    "import seaborn as sns\n",
    "from os.path import exists\n",
    "import matplotlib.pyplot as plt\n",
    "from sklearn.neighbors import KNeighborsClassifier\n",
    "from sklearn.model_selection import train_test_split\n",
    "from sklearn.metrics import accuracy_score, confusion_matrix\n",
    "from sklearn.ensemble import GradientBoostingClassifier\n",
    "import numpy as np\n",
    "from textblob import TextBlob"
   ]
  },
  {
   "cell_type": "markdown",
   "metadata": {},
   "source": [
    "# Loading the Files\n",
    "\n",
    "Download the csv files into the `data/` directory."
   ]
  },
  {
   "cell_type": "code",
   "execution_count": 2,
   "metadata": {},
   "outputs": [
    {
     "name": "stdout",
     "output_type": "stream",
     "text": [
      "train.csv shape is  (1697533, 9)\n",
      "test.csv shape is  (212192, 2)\n",
      "\n",
      "        Id   ProductId          UserId  HelpfulnessNumerator  \\\n",
      "0   914403  B0009W5KHM   AV6QDP8Q0ONK4                     2   \n",
      "1   354887  6303079709  A2I8RXJN80A2D2                     0   \n",
      "2  1407653  B004H0M2XC  A3FHV3RV8Z12E6                     0   \n",
      "3  1377458  B003ZJ9536  A12VLTA3ZHVPUY                     1   \n",
      "4   475323  630574453X  A13NM1PES9OXVN                     2   \n",
      "\n",
      "   HelpfulnessDenominator        Time  \\\n",
      "0                       2  1341014400   \n",
      "1                       0  1168819200   \n",
      "2                       0  1386201600   \n",
      "3                       1  1348704000   \n",
      "4                       3   970012800   \n",
      "\n",
      "                                         Summary  \\\n",
      "0                                  GOOD FUN FILM   \n",
      "1                                   Movie Review   \n",
      "2             When is it a good time to Consent?   \n",
      "3                                          TRUTH   \n",
      "4  Intelligent and bittersweet -- stays with you   \n",
      "\n",
      "                                                Text  Score  \n",
      "0  While most straight to DVD films are not worth...    5.0  \n",
      "1  I have wanted this one for sometime, also.  I ...    5.0  \n",
      "2  Actually this was a pretty darn good indie fil...    4.0  \n",
      "3  Episodes 37 to 72 of the series press on in a ...    5.0  \n",
      "4  I was really impressed with this movie, but wa...    3.0  \n",
      "\n",
      "        Id  Score\n",
      "0  1323432    NaN\n",
      "1  1137299    NaN\n",
      "2  1459366    NaN\n",
      "3   931601    NaN\n",
      "4  1311995    NaN\n",
      "\n",
      "                 Id  HelpfulnessNumerator  HelpfulnessDenominator  \\\n",
      "count  1.697533e+06          1.697533e+06            1.697533e+06   \n",
      "mean   8.487660e+05          3.569048e+00            5.301422e+00   \n",
      "std    4.900357e+05          1.727883e+01            2.024445e+01   \n",
      "min    0.000000e+00          0.000000e+00            0.000000e+00   \n",
      "25%    4.243830e+05          0.000000e+00            0.000000e+00   \n",
      "50%    8.487660e+05          1.000000e+00            1.000000e+00   \n",
      "75%    1.273149e+06          3.000000e+00            5.000000e+00   \n",
      "max    1.697532e+06          6.084000e+03            6.510000e+03   \n",
      "\n",
      "               Time         Score  \n",
      "count  1.697533e+06  1.485341e+06  \n",
      "mean   1.262422e+09  4.110517e+00  \n",
      "std    1.289277e+08  1.197651e+00  \n",
      "min    8.793792e+08  1.000000e+00  \n",
      "25%    1.164413e+09  4.000000e+00  \n",
      "50%    1.307491e+09  5.000000e+00  \n",
      "75%    1.373242e+09  5.000000e+00  \n",
      "max    1.406074e+09  5.000000e+00  \n"
     ]
    },
    {
     "data": {
      "image/png": "[encoded data removed]",
      "text/plain": [
       "<Figure size 640x480 with 1 Axes>"
      ]
     },
     "metadata": {},
     "output_type": "display_data"
    },
    {
     "name": "stdout",
     "output_type": "stream",
     "text": [
      "\n",
      "EVERYTHING IS PROPERLY SET UP! YOU ARE READY TO START\n"
     ]
    }
   ],
   "source": [
    "trainingSet = pd.read_csv(\"./data/train.csv\")\n",
    "testingSet = pd.read_csv(\"./data/test.csv\")\n",
    "\n",
    "print(\"train.csv shape is \", trainingSet.shape)\n",
    "print(\"test.csv shape is \", testingSet.shape)\n",
    "\n",
    "print()\n",
    "\n",
    "print(trainingSet.head())\n",
    "print()\n",
    "print(testingSet.head())\n",
    "\n",
    "print()\n",
    "\n",
    "print(trainingSet.describe())\n",
    "\n",
    "trainingSet['Score'].value_counts().plot(kind='bar', legend=True, alpha=.5)\n",
    "plt.show()\n",
    "\n",
    "print()\n",
    "print(\"EVERYTHING IS PROPERLY SET UP! YOU ARE READY TO START\")"
   ]
  },
  {
   "cell_type": "markdown",
   "metadata": {},
   "source": [
    "# Adding Features"
   ]
  },
  {
   "cell_type": "code",
   "execution_count": 3,
   "metadata": {},
   "outputs": [
    {
     "name": "stdout",
     "output_type": "stream",
     "text": [
      "Helpfulness ratio added\n",
      "Advanced helpfulness columns added\n",
      "User and Product stats included\n",
      "Missing values replaced with global mean\n",
      "Time-based features added\n",
      "Textual features included\n",
      "Sentiment analysis completed\n",
      "Helpfulness ratio added\n",
      "Advanced helpfulness columns added\n",
      "User and Product stats included\n",
      "Missing values replaced with global mean\n",
      "Time-based features added\n",
      "Textual features included\n",
      "Sentiment analysis completed\n"
     ]
    }
   ],
   "source": [
    "def add_features_to(df, train_data=None):\n",
    "    # Compute basic helpfulness\n",
    "    df['Helpfulness'] = df['HelpfulnessNumerator'] / df['HelpfulnessDenominator']\n",
    "    df['Helpfulness'] = df['Helpfulness'].fillna(0)\n",
    "    print(\"Helpfulness ratio added\")\n",
    "    \n",
    "    # Advanced helpfulness-related columns\n",
    "    df['IsHelpful'] = (df['HelpfulnessNumerator'] > 0).astype(int)\n",
    "    df['HelpfulnessDifference'] = df['HelpfulnessNumerator'] - df['HelpfulnessDenominator']\n",
    "    df['WeightedHelpfulness'] = df['HelpfulnessNumerator'] / (df['HelpfulnessDenominator'] + 1)\n",
    "    print(\"Advanced helpfulness columns added\")\n",
    "    \n",
    "    # User and Product review history\n",
    "    if train_data is not None:\n",
    "        user_avg_scores = train_data.groupby('UserId')['Score'].mean()\n",
    "        product_avg_scores = train_data.groupby('ProductId')['Score'].mean()\n",
    "        overall_mean_score = train_data['Score'].mean()\n",
    "    else:\n",
    "        user_avg_scores = df.groupby('UserId')['Score'].mean()\n",
    "        product_avg_scores = df.groupby('ProductId')['Score'].mean()\n",
    "        overall_mean_score = df['Score'].mean()\n",
    "    \n",
    "    df['UserAvgScore'] = df['UserId'].map(user_avg_scores)\n",
    "    df['ProductAvgScore'] = df['ProductId'].map(product_avg_scores)\n",
    "    df['UserMedianScore'] = df['UserId'].map((train_data if train_data is not None else df).groupby('UserId')['Score'].median())\n",
    "    df['UserReviewTotal'] = df['UserId'].map((train_data if train_data is not None else df).groupby('UserId')['Score'].count()).fillna(0)\n",
    "    print(\"User and Product stats included\")\n",
    "\n",
    "    # Replace missing values with global average\n",
    "    df['UserAvgScore'] = df['UserAvgScore'].fillna(overall_mean_score)\n",
    "    df['ProductAvgScore'] = df['ProductAvgScore'].fillna(overall_mean_score)\n",
    "    df['UserMedianScore'] = df['UserMedianScore'].fillna(overall_mean_score)\n",
    "    print(\"Missing values replaced with global mean\")\n",
    "\n",
    "    # Temporal features extraction\n",
    "    datetime_series = pd.to_datetime(df['Time'], unit='s')\n",
    "    df['Year'] = datetime_series.dt.year\n",
    "    df['Month'] = datetime_series.dt.month\n",
    "    df['DayOfWeek'] = datetime_series.dt.dayofweek\n",
    "    df['Quarter'] = datetime_series.dt.quarter\n",
    "    print(\"Time-based features added\")\n",
    "    \n",
    "    # Textual features\n",
    "    df['Text'] = df['Text'].fillna(\"\").astype(str)\n",
    "    df['ReviewWordCount'] = df['Text'].apply(lambda text: len(text.split()))\n",
    "    df['UniqueWordCount'] = df['Text'].apply(lambda text: len(set(text.split())))\n",
    "    print(\"Textual features included\")\n",
    "\n",
    "    # Sentiment polarity analysis\n",
    "    df['SentimentPolarity'] = df['Text'].apply(lambda text: TextBlob(text).sentiment.polarity)\n",
    "    print(\"Sentiment analysis completed\")\n",
    "    \n",
    "    return df\n",
    "\n",
    "\n",
    "if exists('./data/X_train.csv'):\n",
    "    X_train = pd.read_csv(\"./data/X_train.csv\")\n",
    "if exists('./data/X_submission.csv'):\n",
    "    X_submission = pd.read_csv(\"./data/X_submission.csv\")\n",
    "else:\n",
    "    # Augment training data\n",
    "    train_augmented = add_features_to(trainingSet)\n",
    "    \n",
    "    # Combine training and testing on 'Id'\n",
    "    X_submission = pd.merge(train_augmented, testingSet, on='Id')\n",
    "    X_submission = X_submission.drop(columns=['Score_x'])\n",
    "    X_submission = X_submission.rename(columns={'Score_y': 'Score'})\n",
    "    \n",
    "    # Augment submission set with train data stats\n",
    "    X_submission = add_features_to(X_submission, trainingSet)\n",
    "    \n",
    "    # Separate training rows with non-null scores\n",
    "    X_train = train_augmented[train_augmented['Score'].notna()]\n",
    "    \n",
    "    X_submission.to_csv(\"./data/X_submission.csv\", index=False)\n",
    "    X_train.to_csv(\"./data/X_train.csv\", index=False)\n"
   ]
  },
  {
   "cell_type": "markdown",
   "metadata": {},
   "source": [
    "# Sample + Split into training and testing set"
   ]
  },
  {
   "cell_type": "code",
   "execution_count": 4,
   "metadata": {},
   "outputs": [
    {
     "name": "stdout",
     "output_type": "stream",
     "text": [
      "Training Set Shape: X_train: (1114005, 23), Y_train: (1114005,)\n",
      "Testing Set Shape: X_test: (371336, 23), Y_test: (371336,)\n"
     ]
    }
   ],
   "source": [
    "# Split the training data into features and target variable\n",
    "# Assuming that 'Score' is the column with the target values\n",
    "X = X_train.drop(columns=['Score'])\n",
    "Y = X_train['Score']\n",
    "\n",
    "# Split the training set into training and testing sets for offline evaluation\n",
    "X_train, X_test, Y_train, Y_test = train_test_split(\n",
    "    X,  # Features (excluding 'Score')\n",
    "    Y,  # Target variable ('Score')\n",
    "    test_size=0.25,  # 25% of the data will be used as the testing set\n",
    "    random_state=0  # For reproducibility of results\n",
    ")\n",
    "\n",
    "# Check the dimensions of the resulting datasets\n",
    "print(f\"Training Set Shape: X_train: {X_train.shape}, Y_train: {Y_train.shape}\")\n",
    "print(f\"Testing Set Shape: X_test: {X_test.shape}, Y_test: {Y_test.shape}\")\n"
   ]
  },
  {
   "cell_type": "markdown",
   "metadata": {},
   "source": [
    "# Feature Selection"
   ]
  },
  {
   "cell_type": "code",
   "execution_count": 5,
   "metadata": {},
   "outputs": [],
   "source": [
    "# Updated feature list with all additional features\n",
    "\n",
    "features = [\n",
    "    'HelpfulnessNumerator',\n",
    "    'HelpfulnessDenominator',\n",
    "    'Helpfulness',\n",
    "    'IsHelpful',\n",
    "    'HelpfulnessDifference',\n",
    "    'WeightedHelpfulness',\n",
    "    'UserAvgScore',\n",
    "    'ProductAvgScore',\n",
    "    'UserMedianScore',\n",
    "    'UserReviewTotal',\n",
    "    'Year',\n",
    "    'Month',\n",
    "    'DayOfWeek',\n",
    "    'Quarter',\n",
    "    'ReviewWordCount',\n",
    "    'UniqueWordCount',\n",
    "    'SentimentPolarity'\n",
    "]\n",
    "\n",
    "# Selecting features for training and testing\n",
    "X_train_select = X_train[features]\n",
    "X_test_select = X_test[features]  # Assuming X_test has been defined similarly\n",
    "X_submission_select = X_submission[features]"
   ]
  },
  {
   "cell_type": "markdown",
   "metadata": {},
   "source": [
    "# Model Creation"
   ]
  },
  {
   "cell_type": "code",
   "execution_count": 9,
   "metadata": {},
   "outputs": [],
   "source": [
    "\n",
    "model = GradientBoostingClassifier(n_estimators=150, learning_rate=0.2, random_state=42, n_iter_no_change=10)\n",
    "model.fit(X_train_select, Y_train)\n",
    "\n",
    "Y_test_predictions = model.predict(X_test_select)"
   ]
  },
  {
   "cell_type": "markdown",
   "metadata": {},
   "source": [
    "# Model Evaluation"
   ]
  },
  {
   "cell_type": "code",
   "execution_count": 10,
   "metadata": {},
   "outputs": [
    {
     "name": "stdout",
     "output_type": "stream",
     "text": [
      "Accuracy on testing set =  0.6507421849753323\n"
     ]
    },
    {
     "data": {
      "image/png": "[encoded data removed]",
      "text/plain": [
       "<Figure size 640x480 with 2 Axes>"
      ]
     },
     "metadata": {},
     "output_type": "display_data"
    }
   ],
   "source": [
    "# Evaluate your model on the testing set\n",
    "print(\"Accuracy on testing set = \", accuracy_score(Y_test, Y_test_predictions))\n",
    "\n",
    "# Plot a confusion matrix\n",
    "cm = confusion_matrix(Y_test, Y_test_predictions, normalize='true')\n",
    "sns.heatmap(cm, annot=True)\n",
    "plt.title('Confusion matrix of the classifier')\n",
    "plt.xlabel('Predicted')\n",
    "plt.ylabel('True')\n",
    "plt.show()"
   ]
  },
  {
   "cell_type": "markdown",
   "metadata": {},
   "source": [
    "# Create submission file"
   ]
  },
  {
   "cell_type": "code",
   "execution_count": 11,
   "metadata": {},
   "outputs": [],
   "source": [
    "\n",
    "X_submission['Score'] = model.predict(X_submission_select)\n",
    "submission = X_submission[['Id', 'Score']]\n",
    "submission.to_csv(\"./data/submission.csv\", index=False)"
   ]
  }
 ],
 "metadata": {
  "kernelspec": {
   "display_name": "Python 3",
   "language": "python",
   "name": "python3"
  },
  "language_info": {
   "codemirror_mode": {
    "name": "ipython",
    "version": 3
   },
   "file_extension": ".py",
   "mimetype": "text/x-python",
   "name": "python",
   "nbconvert_exporter": "python",
   "pygments_lexer": "ipython3",
   "version": "3.10.11"
  }
 },
 "nbformat": 4,
 "nbformat_minor": 2
}
