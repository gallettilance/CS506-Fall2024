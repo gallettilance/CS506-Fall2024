{
 "cells": [
  {
   "attachments": {},
   "cell_type": "markdown",
   "metadata": {},
   "source": [
    "# Worksheet \n",
    "\n",
    "[FORM](https://forms.gle/XGgcu5fTJXCUKkpZ7)\n",
    "\n",
    "### Kmeans ++\n",
    "\n",
    "a) What's the main limitation of Farthest First Traversal?"
   ]
  },
  {
   "cell_type": "markdown",
   "metadata": {},
   "source": [
    "It’s sensitive to outliers because it selects points farthest from the initial ones, potentially including outliers as cluster centers."
   ]
  },
  {
   "cell_type": "markdown",
   "metadata": {},
   "source": [
    "b) What is the difference between K means and K means ++?"
   ]
  },
  {
   "cell_type": "markdown",
   "metadata": {},
   "source": [
    "K-means: Randomly initializes cluster centroids, which can lead to inconsistent results.\n",
    "K-means++: Chooses centroids more strategically, improving cluster quality and convergence speed."
   ]
  },
  {
   "cell_type": "markdown",
   "metadata": {},
   "source": [
    "c) What are some limitations of Kmeans/ Kmeans++?"
   ]
  },
  {
   "cell_type": "markdown",
   "metadata": {},
   "source": [
    "Fixed k: Must specify the number of clusters beforehand.\n",
    "Outlier Sensitivity: Outliers can skew cluster centers.\n",
    "Cluster Shape: Assumes spherical, evenly sized clusters, which isn’t always true."
   ]
  },
  {
   "cell_type": "markdown",
   "metadata": {},
   "source": [
    "d) Explain why we need silhouette scores"
   ]
  },
  {
   "cell_type": "markdown",
   "metadata": {},
   "source": [
    "Silhouette scores measure how well data points fit within their assigned clusters. They help evaluate clustering quality, indicating if points are correctly clustered or misplaced."
   ]
  }
 ],
 "metadata": {
  "kernelspec": {
   "display_name": "env",
   "language": "python",
   "name": "python3"
  },
  "language_info": {
   "codemirror_mode": {
    "name": "ipython",
    "version": 3
   },
   "file_extension": ".py",
   "mimetype": "text/x-python",
   "name": "python",
   "nbconvert_exporter": "python",
   "pygments_lexer": "ipython3",
   "version": "3.9.18"
  },
  "orig_nbformat": 4,
  "vscode": {
   "interpreter": {
    "hash": "76ca05dc3ea24b2e3b98cdb7774adfbb40773424bf5109b477fd793f623715af"
   }
  }
 },
 "nbformat": 4,
 "nbformat_minor": 2
}
