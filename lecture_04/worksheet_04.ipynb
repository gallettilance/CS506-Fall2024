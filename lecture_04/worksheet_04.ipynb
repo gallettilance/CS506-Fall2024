{
 "cells": [
  {
   "attachments": {},
   "cell_type": "markdown",
   "metadata": {},
   "source": [
    "# Worksheet \n",
    "\n",
    "[FORM](https://forms.gle/XGgcu5fTJXCUKkpZ7)\n",
    "\n",
    "### Kmeans ++\n",
    "\n",
    "a) What's the main limitation of Farthest First Traversal?"
   ]
  },
  {
   "cell_type": "markdown",
   "metadata": {},
   "source": [
    "pick initial points such that they are as far away from each other as possible\n",
    "avoid the problem of lloyd's algorithm not finding the optimal\n",
    "Problem of picking an outlier as a cluster :("
   ]
  },
  {
   "cell_type": "markdown",
   "metadata": {},
   "source": [
    "b) What is the difference between K means and K means ++?"
   ]
  },
  {
   "cell_type": "markdown",
   "metadata": {},
   "source": [
    "choice of random initial centers are weighted by distance of how far it is from the last pick (proportional to distance squared)"
   ]
  },
  {
   "cell_type": "markdown",
   "metadata": {},
   "source": [
    "c) What are some limitations of Kmeans/ Kmeans++?"
   ]
  },
  {
   "cell_type": "markdown",
   "metadata": {},
   "source": [
    "Does not do well with clusters of various sizes\n",
    "Non-bobular shapes (elongated clusters)\n",
    "Density of clusters"
   ]
  },
  {
   "cell_type": "markdown",
   "metadata": {},
   "source": [
    "d) Explain why we need silhouette scores"
   ]
  },
  {
   "cell_type": "markdown",
   "metadata": {},
   "source": []
  }
 ],
 "metadata": {
  "kernelspec": {
   "display_name": "env",
   "language": "python",
   "name": "python3"
  },
  "language_info": {
   "codemirror_mode": {
    "name": "ipython",
    "version": 3
   },
   "file_extension": ".py",
   "mimetype": "text/x-python",
   "name": "python",
   "nbconvert_exporter": "python",
   "pygments_lexer": "ipython3",
   "version": "3.9.18"
  },
  "orig_nbformat": 4,
  "vscode": {
   "interpreter": {
    "hash": "76ca05dc3ea24b2e3b98cdb7774adfbb40773424bf5109b477fd793f623715af"
   }
  }
 },
 "nbformat": 4,
 "nbformat_minor": 2
}
