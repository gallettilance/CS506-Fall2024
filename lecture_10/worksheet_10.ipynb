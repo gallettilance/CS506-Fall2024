{
 "cells": [
  {
   "attachments": {},
   "cell_type": "markdown",
   "metadata": {},
   "source": [
    "# Worksheet\n",
    "\n",
    "[FORM](https://forms.gle/7xdU8jQXUaruMDPf6)\n",
    "\n",
    "### Decision Trees"
   ]
  },
  {
   "attachments": {},
   "cell_type": "markdown",
   "metadata": {},
   "source": [
    "Working with a dataset that attempts to understand the relationship between `heart disease` and whether or not a person experiences `chest_pain` and/or has `thalassemia`. All the attributes are binary (either 0 or 1) for simplicity. "
   ]
  },
  {
   "cell_type": "code",
   "execution_count": 1,
   "metadata": {},
   "outputs": [],
   "source": [
    "import numpy as np\n",
    "\n",
    "data = np.genfromtxt(fname='./dataset.tsv', delimiter = '\\t', names = True)"
   ]
  },
  {
   "attachments": {},
   "cell_type": "markdown",
   "metadata": {},
   "source": [
    "Before splitting the dataset at all, we observe the following distribution of 1s and 0s in the `heart_disease` class:"
   ]
  },
  {
   "cell_type": "code",
   "execution_count": 2,
   "metadata": {},
   "outputs": [
    {
     "name": "stdout",
     "output_type": "stream",
     "text": [
      "[1. 0. 0. 0. 0. 0. 1. 1. 1. 0. 1. 0. 1. 0. 1. 1. 0. 0. 1. 0. 0. 0. 0. 0.\n",
      " 0. 1. 1. 1.]\n"
     ]
    }
   ],
   "source": [
    "print(data[\"heart_disease\"])"
   ]
  },
  {
   "cell_type": "markdown",
   "metadata": {},
   "source": [
    "a) write a function that calculates the GINI of that node."
   ]
  },
  {
   "cell_type": "code",
   "execution_count": 3,
   "metadata": {},
   "outputs": [
    {
     "name": "stdout",
     "output_type": "stream",
     "text": [
      "0.48979591836734704\n"
     ]
    }
   ],
   "source": [
    "def gini(node):  \n",
    "    \n",
    "    _, count = np.unique(node, return_counts=True)\n",
    "    \n",
    "    probabilities = count / len(node)\n",
    "    \n",
    "    gini = 1 - np.sum(probabilities **2 )\n",
    "    \n",
    "    return gini\n",
    "\n",
    "# GINI of the node is\n",
    "print(gini(data[\"heart_disease\"]))"
   ]
  },
  {
   "attachments": {},
   "cell_type": "markdown",
   "metadata": {},
   "source": [
    "b) Write a function that computes the gini of a split."
   ]
  },
  {
   "cell_type": "code",
   "execution_count": 6,
   "metadata": {},
   "outputs": [
    {
     "name": "stdout",
     "output_type": "stream",
     "text": [
      "[0. 1.]\n",
      "0.23469387755102045\n"
     ]
    }
   ],
   "source": [
    "def gini_split(data, attr, target_name):\n",
    "    unique_values = np.unique(data[attr])\n",
    "    \n",
    "    # Initialize weighted gini index\n",
    "    weighted_gini = 0.0\n",
    "    \n",
    "    # For each unique value of the attribute, calculate the Gini for that split\n",
    "    for value in unique_values:\n",
    "        # Filter the dataset where the attribute is equal to the current value\n",
    "        subset = data[data[attr] == value][target_name]\n",
    "        \n",
    "        # Calculate Gini for this subset\n",
    "        subset_gini = gini(subset)\n",
    "        \n",
    "        # Weight the Gini by the proportion of samples in this subset\n",
    "        weight = len(subset) / len(data)\n",
    "        weighted_gini += weight * subset_gini\n",
    "    \n",
    "    return weighted_gini\n",
    "\n",
    "# GINI of split on thalassemia\n",
    "print(gini_split(data, \"thalassemia\", \"heart_disease\"))"
   ]
  },
  {
   "cell_type": "markdown",
   "metadata": {},
   "source": [
    "c)"
   ]
  },
  {
   "cell_type": "code",
   "execution_count": 5,
   "metadata": {},
   "outputs": [
    {
     "name": "stdout",
     "output_type": "stream",
     "text": [
      "0.4419642857142857\n"
     ]
    }
   ],
   "source": [
    "# GINI of split on chest_pain\n",
    "print(gini_split(data, \"chest_pain\", \"heart_disease\"))"
   ]
  },
  {
   "cell_type": "markdown",
   "metadata": {},
   "source": [
    "## Creating a simple decision tree from scratch"
   ]
  },
  {
   "attachments": {},
   "cell_type": "markdown",
   "metadata": {},
   "source": [
    "We can represent a decision tree recursively with the `Node` class below."
   ]
  },
  {
   "cell_type": "code",
   "execution_count": 20,
   "metadata": {},
   "outputs": [
    {
     "name": "stdout",
     "output_type": "stream",
     "text": [
      "A = 0: \n",
      "| B = 0: \n",
      "| | vote = 0\n",
      "| B = 1: \n",
      "| | vote = 1\n",
      "A = 1: \n",
      "| C = 0: \n",
      "| | vote = 0\n",
      "| C = 1: \n",
      "| | vote = 1\n",
      "\n"
     ]
    }
   ],
   "source": [
    "class Node:\n",
    "    def __init__(self, attribute):\n",
    "        self.attr = attribute\n",
    "        self.left = None\n",
    "        self.right = None\n",
    "        self.vote = None\n",
    "    \n",
    "    def _node_at(self, depth):\n",
    "        pretty_print = \"\"\n",
    "        if self.left is not None:\n",
    "            for _ in range(depth):\n",
    "                pretty_print += \"| \"\n",
    "            pretty_print += self.attr + ' = 0: \\n'\n",
    "            pretty_print += self.left._node_at(depth + 1)\n",
    "    \n",
    "        if self.right is not None:\n",
    "            for _ in range(depth):\n",
    "                pretty_print += \"| \"\n",
    "            pretty_print += self.attr + ' = 1: \\n'\n",
    "            pretty_print += self.right._node_at(depth + 1)\n",
    "        \n",
    "        if self.right is None and self.left is None:\n",
    "            for _ in range(depth):\n",
    "                pretty_print += \"| \"\n",
    "            pretty_print += \"vote = \" + str(self.vote) + '\\n'\n",
    "        \n",
    "        return pretty_print\n",
    "\n",
    "    def __repr__(self):\n",
    "        return self._node_at(0)\n",
    "    \n",
    "B = Node(\"B\")\n",
    "C = Node(\"C\")\n",
    "left_leaf = Node(\"leaf\")\n",
    "left_leaf.vote = 0\n",
    "right_leaf = Node(\"leaf\")\n",
    "right_leaf.vote = 1\n",
    "\n",
    "B.right = right_leaf\n",
    "B.left = left_leaf\n",
    "C.right = right_leaf\n",
    "C.left = left_leaf\n",
    "\n",
    "tree = Node(\"A\")\n",
    "tree.left = B\n",
    "tree.right = C\n",
    "\n",
    "print(tree)"
   ]
  },
  {
   "attachments": {},
   "cell_type": "markdown",
   "metadata": {},
   "source": [
    "Each node is defined by splitting the dataset on a specific attribute. If the attribute value is 0, we explore the left node, if the attribute value is 1, we explore the right node. The left and right nodes are both of type `Node`. If the node has no left node and no right node then it is a leaf node and should contain a vote for what class should be predicted.\n",
    "\n",
    "Write a function that takes in a decision tree and a data point, and walks through the tree based on the data point's attribute values to predict its class."
   ]
  },
  {
   "cell_type": "code",
   "execution_count": 24,
   "metadata": {},
   "outputs": [
    {
     "name": "stdout",
     "output_type": "stream",
     "text": [
      "1\n",
      "0\n",
      "0\n",
      "1\n"
     ]
    }
   ],
   "source": [
    "def predict(tree : Node, example):\n",
    "    if tree.left is None and tree.right is None:\n",
    "        return tree.vote\n",
    "    \n",
    "    if example[tree.attr] == 0:\n",
    "        return predict(tree.left, example)\n",
    "\n",
    "    if example[tree.attr] == 1:\n",
    "        return predict(tree.right, example)\n",
    "\n",
    "    return 0\n",
    "\n",
    "print(predict(tree, {\"A\": 0, \"B\": 1, \"C\": 0})) # A -> B -> right\n",
    "print(predict(tree, {\"A\": 0, \"B\": 0, \"C\": 0})) # A -> B -> left\n",
    "print(predict(tree, {\"A\": 1, \"B\": 1, \"C\": 0})) # A -> C -> left\n",
    "print(predict(tree, {\"A\": 1, \"B\": 1, \"C\": 1})) # A -> C -> right\n"
   ]
  },
  {
   "attachments": {},
   "cell_type": "markdown",
   "metadata": {},
   "source": [
    "Write a function that finds the best attribute to split on wrt the GINI of the split. Recall a smaller GINI is better."
   ]
  },
  {
   "cell_type": "code",
   "execution_count": null,
   "metadata": {},
   "outputs": [],
   "source": [
    "def get_best_attribute(data, target_name):\n",
    "    best_attr = None\n",
    "    for attr in data.dtype.names:\n",
    "        if attr != target_name:\n",
    "            # Calculate the Gini impurity for the current attribute\n",
    "            gini_value = gini_split(data, attr, target_name)\n",
    "            \n",
    "            # If the current Gini is better (lower), update the best attribute\n",
    "            if gini_value < best_gini:\n",
    "                best_gini = gini_value\n",
    "                best_attr = attr\n",
    "                \n",
    "    return best_attr"
   ]
  },
  {
   "attachments": {},
   "cell_type": "markdown",
   "metadata": {},
   "source": [
    "Complete the code below to build a `SimpleDecisionTree` on the dataset provided."
   ]
  },
  {
   "cell_type": "code",
   "execution_count": 38,
   "metadata": {},
   "outputs": [
    {
     "name": "stdout",
     "output_type": "stream",
     "text": [
      "thalassemia = 0: \n",
      "| chest_pain = 0: \n",
      "| | vote = 0\n",
      "| chest_pain = 1: \n",
      "| | vote = 0\n",
      "thalassemia = 1: \n",
      "| chest_pain = 0: \n",
      "| | vote = 1\n",
      "| chest_pain = 1: \n",
      "| | vote = 1\n",
      "\n"
     ]
    }
   ],
   "source": [
    "class SimpleDecisionTree:\n",
    "    \n",
    "    def __init__(self, max_depth, data, target_name):\n",
    "        self.max_depth = max_depth\n",
    "        self.data = data\n",
    "        self.target_name = target_name\n",
    "        self.tree = None\n",
    "        self.default_class = None\n",
    "\n",
    "\n",
    "    def __repr__(self):\n",
    "        return self.tree.__repr__()\n",
    "\n",
    "\n",
    "    def get_subset(self, data, attr):\n",
    "        subset_1 = data[data[attr] == 0]\n",
    "        subset_2 = data[data[attr] == 1]\n",
    "        return subset_1, subset_2\n",
    "\n",
    "\n",
    "    def gini_split(self, data, attr):\n",
    "        ...\n",
    "\n",
    "\n",
    "    def get_majority_vote(self, data):\n",
    "        ...\n",
    "\n",
    "\n",
    "    def get_best_attribute(self, data):        \n",
    "        ...\n",
    "\n",
    "\n",
    "    def build_tree(self, data, depth):        \n",
    "        attr = self.get_best_attribute(data)\n",
    "        node = Node(attr)\n",
    "\n",
    "        if depth == 0:\n",
    "            if data is None:\n",
    "                node.vote = self.default_class\n",
    "            else:\n",
    "                node.vote = self.get_majority_vote(data)\n",
    "            return node\n",
    "\n",
    "        left, right = self.get_subset(data, node.attr)\n",
    "\n",
    "        node.left = self.build_tree(left, depth - 1)\n",
    "        node.right = self.build_tree(right, depth - 1)\n",
    "\n",
    "        if node.left is None and node.right is None:\n",
    "            node.vote = self.get_majority_vote(data)\n",
    "            \n",
    "        return node\n",
    "\n",
    "\n",
    "    def train(self):\n",
    "        if self.max_depth > len(self.data.dtype.names) - 1:\n",
    "            self.max_depth = len(self.data.dtype.names) - 1\n",
    "\n",
    "        self.default_class = self.get_majority_vote(self.data)\n",
    "        self.tree = self.build_tree(self.data, self.max_depth)\n",
    "\n",
    "\n",
    "simple_tree = SimpleDecisionTree(2, data, \"heart_disease\")\n",
    "simple_tree.train()\n",
    "print(simple_tree)"
   ]
  }
 ],
 "metadata": {
  "kernelspec": {
   "display_name": "Python 3",
   "language": "python",
   "name": "python3"
  },
  "language_info": {
   "codemirror_mode": {
    "name": "ipython",
    "version": 3
   },
   "file_extension": ".py",
   "mimetype": "text/x-python",
   "name": "python",
   "nbconvert_exporter": "python",
   "pygments_lexer": "ipython3",
   "version": "3.12.0"
  },
  "orig_nbformat": 4
 },
 "nbformat": 4,
 "nbformat_minor": 2
}
