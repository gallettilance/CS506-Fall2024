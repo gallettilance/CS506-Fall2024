{
 "cells": [
  {
   "attachments": {},
   "cell_type": "markdown",
   "metadata": {},
   "source": [
    "# Worksheet\n",
    "\n",
    "[FORM](https://forms.gle/fNezueqNgwqLu3iM8)\n",
    "\n",
    "## Linear Model Evaluation\n",
    "\n",
    "Notice that R^2 only increases with the number of explanatory variables used. Hence the need for an adjusted R^2 that penalizes for insignificant explanatory variables."
   ]
  },
  {
   "cell_type": "code",
   "execution_count": 15,
   "metadata": {},
   "outputs": [
    {
     "name": "stdout",
     "output_type": "stream",
     "text": [
      "0.9945826144313966\n",
      "0.9946201809257829\n",
      "0.9946471053101211\n",
      "0.9946534432777431\n",
      "0.9947059949520863\n",
      "0.9947074461704298\n",
      "0.994707608121796\n",
      "0.9947869895110119\n",
      "0.9948198887898864\n",
      "0.9951848444886159\n",
      "0.9951965442390005\n",
      "0.9953882627854057\n",
      "0.995395848219324\n",
      "0.995277795907357\n"
     ]
    }
   ],
   "source": [
    "import numpy as np\n",
    "from sklearn.linear_model import LinearRegression\n",
    "from sklearn.preprocessing import PolynomialFeatures\n",
    "\n",
    "SAMPLE_SIZE = 100\n",
    "beta = [1, 5]\n",
    "X = -10.0 + 10.0 * np.random.random(SAMPLE_SIZE)\n",
    "Y = beta[0] + beta[1] * X + np.random.randn(SAMPLE_SIZE)\n",
    "\n",
    "for i in range(1, 15):\n",
    "    X_transform = PolynomialFeatures(degree=i, include_bias=False).fit_transform(X.reshape(-1, 1))\n",
    "    model = LinearRegression()\n",
    "    model.fit(X_transform, Y)\n",
    "    print(model.score(X_transform, Y))"
   ]
  },
  {
   "attachments": {},
   "cell_type": "markdown",
   "metadata": {},
   "source": [
    "## Simulate and Count\n",
    "\n",
    "What is the probability that a fair coin generated this sequence of coin tosses."
   ]
  },
  {
   "cell_type": "code",
   "execution_count": 16,
   "metadata": {},
   "outputs": [
    {
     "name": "stdout",
     "output_type": "stream",
     "text": [
      "Dataset of coin tosses:  [0, 1, 1, 1, 1, 0]\n",
      "Probability that a fair coin generates it:  0.234375\n",
      "\n",
      "We simulated a fair coin being flipped 6 times.\n",
      "In our 1000 simulations, this was the count of the number of Heads (out of 6) we observed: \n"
     ]
    },
    {
     "data": {
      "image/png": "[encoded data removed]",
      "text/plain": [
       "<Figure size 432x288 with 1 Axes>"
      ]
     },
     "metadata": {
      "needs_background": "light"
     },
     "output_type": "display_data"
    }
   ],
   "source": [
    "import numpy as np\n",
    "from scipy.stats import binom\n",
    "import matplotlib.pyplot as plt\n",
    "\n",
    "def num_successes(flips):\n",
    "    return sum(flips)\n",
    "\n",
    "SAMPLE_SIZE = 6\n",
    "og_flips = [np.random.choice([0, 1]) for _ in range(SAMPLE_SIZE)]\n",
    "print(\"Dataset of coin tosses: \", og_flips)\n",
    "print(\"Probability that a fair coin generates it: \", binom.pmf(num_successes(og_flips), SAMPLE_SIZE, 1/2))\n",
    "print()\n",
    "\n",
    "p_est = []\n",
    "NUM_SIMULATIONS = 1000\n",
    "\n",
    "print(\"We simulated a fair coin being flipped \"\n",
    "      + str(SAMPLE_SIZE)\n",
    "      + \" times.\\nIn our \"\n",
    "      + str(NUM_SIMULATIONS)\n",
    "      + \" simulations, this was the count of the number of Heads (out of 6) we observed: \"\n",
    "    )\n",
    "\n",
    "for _ in range(NUM_SIMULATIONS):\n",
    "    flips = [np.random.choice([0, 1]) for _ in range(SAMPLE_SIZE)]\n",
    "    p_est.append(num_successes(flips))\n",
    "\n",
    "fig, ax = plt.subplots()\n",
    "_, bins, patches = ax.hist(p_est, bins=SAMPLE_SIZE + 1)\n",
    "p = np.digitize([num_successes(og_flips)], bins)\n",
    "patches[p[0]-1].set_facecolor('r')\n",
    "ax.bar_label(patches)\n",
    "plt.show()\n"
   ]
  },
  {
   "cell_type": "markdown",
   "metadata": {},
   "source": [
    "In Linear Regression, our most pressing question is whether there is in fact a true relationship between our predictors `X` and our target `y` - or if the relationship we observed was just a fluke.\n",
    "\n",
    "Through simulations and counting, let's see just how likely or unlikely it is to observe linear relationships in data that was generated by an `X` and `y` that are not linearly related."
   ]
  },
  {
   "cell_type": "code",
   "execution_count": 5,
   "metadata": {},
   "outputs": [
    {
     "name": "stdout",
     "output_type": "stream",
     "text": [
      "True beta =  [0 0]\n",
      "Observed beta =  [ 0.12740217 -0.07422367]\n"
     ]
    },
    {
     "data": {
      "image/png": "[encoded data removed]",
      "text/plain": [
       "<Figure size 432x288 with 1 Axes>"
      ]
     },
     "metadata": {
      "needs_background": "light"
     },
     "output_type": "display_data"
    }
   ],
   "source": [
    "import numpy as np\n",
    "import matplotlib.pyplot as plt\n",
    "\n",
    "SAMPLE_SIZE = 100\n",
    "\n",
    "xlin = -1.0 + 2.0 * np.random.random(SAMPLE_SIZE)\n",
    "y = 0.0 * xlin + np.random.randn(SAMPLE_SIZE) # beta = 0 means there is no relationship between x and y.\n",
    "\n",
    "intercept = np.ones(np.shape(xlin)[0])\n",
    "X = np.array([intercept, xlin]).T\n",
    "beta = np.linalg.inv(X.T @ X) @ X.T @ y\n",
    "\n",
    "print(\"True beta = \", np.array([0, 0]))\n",
    "print(\"Observed beta = \", beta)\n",
    "\n",
    "xplot = np.linspace(-1,1,20)\n",
    "yestplot = beta[0] + beta[1] * xplot\n",
    "plt.plot(xplot, yestplot,'b-',lw=2)\n",
    "plt.plot(xlin, y,'ro',markersize=4)\n",
    "plt.show()"
   ]
  },
  {
   "cell_type": "markdown",
   "metadata": {},
   "source": [
    "Lets see what happens if we repeat this 1000 times and record the estimated intercept and slope each time to plot them in a histogram."
   ]
  },
  {
   "cell_type": "code",
   "execution_count": 6,
   "metadata": {},
   "outputs": [
    {
     "data": {
      "image/png": "[encoded data removed]",
      "text/plain": [
       "<Figure size 432x288 with 1 Axes>"
      ]
     },
     "metadata": {
      "needs_background": "light"
     },
     "output_type": "display_data"
    }
   ],
   "source": [
    "NUM_TRIALS = 1000\n",
    "inter = []\n",
    "slope = []\n",
    "for _ in range(NUM_TRIALS):\n",
    "\n",
    "    xlin = -1.0 + 2.0 * np.random.random(SAMPLE_SIZE)\n",
    "    y = 0.0 * xlin + np.random.randn(SAMPLE_SIZE)\n",
    "\n",
    "    intercept = np.ones(np.shape(xlin)[0])\n",
    "    X = np.array([intercept, xlin]).T\n",
    "    beta = np.linalg.inv(X.T @ X) @ X.T @ y\n",
    "    inter.append(beta[0])\n",
    "    slope.append(beta[1])\n",
    "\n",
    "fig, ax = plt.subplots()\n",
    "ax.hist(slope, bins=100, density=True, color='r', alpha=.5, label=\"slope\")\n",
    "ax.hist(inter, bins=100, density=True, color='b', alpha=.5, label=\"intercept\")\n",
    "fig.legend()\n",
    "plt.show()"
   ]
  },
  {
   "cell_type": "markdown",
   "metadata": {},
   "source": [
    "If we then encountered a dataset of size 100 as above and the slope was say 2, we would have a lot of evidence / reasonable grounds to say that most likely this dataset was NOT generated with a true slope of 0.\n",
    "\n",
    "Running these simulations can be expensive sometimes so computing these probabilities directly (instead of through simulations) would be nice. What we want to know is: given a true beta, what is the probability of observing a range of estimated betas on a dataset of a specific size N.\n",
    "\n",
    "Lets take this one step at a time."
   ]
  },
  {
   "cell_type": "markdown",
   "metadata": {},
   "source": [
    "## Computing Probabilities\n",
    "\n",
    "We know that:\n",
    "\n",
    "$$\\hat\\beta-\\beta \\sim \\mathcal{N}(0,\\sigma^2 (X^TX)^{-1})$$\n",
    "\n",
    "thus for each component $k$ of $\\hat\\beta$ (here there are only two - one slope and one intercept)\n",
    "\n",
    "$$\\hat\\beta_k -\\beta_k \\sim \\mathcal{N}(0, \\sigma^2 S_{kk})$$\n",
    "\n",
    "where $S_{kk}$ is the $k^\\text{th}$ diagonal element of $(X^TX)^{-1}$. Thus, we know that \n",
    "\n",
    "$$z_k = \\frac{\\hat\\beta_k -\\beta_k}{\\sqrt{\\sigma^2 S_{kk}}} \\sim \\mathcal{N}(0,1)$$\n",
    "\n",
    "Verify that this is the case through a simulation and compare it to the standard normal pdf by plotting it on top of the histogram."
   ]
  },
  {
   "cell_type": "code",
   "execution_count": 13,
   "metadata": {},
   "outputs": [
    {
     "data": {
      "image/png": "[encoded data removed]",
      "text/plain": [
       "<Figure size 432x288 with 1 Axes>"
      ]
     },
     "metadata": {
      "needs_background": "light"
     },
     "output_type": "display_data"
    }
   ],
   "source": [
    "from scipy.stats import norm\n",
    "\n",
    "true_beta = np.array([1, 5])  # true intercept and slope\n",
    "sigma = 1  # standard deviation of noise\n",
    "beta_hist = []\n",
    "for _ in range(1000):\n",
    "    # Generate random X values and corresponding Y values with noise\n",
    "    X = -10.0 + 10.0 * np.random.random(SAMPLE_SIZE)\n",
    "    Y = true_beta[0] + true_beta[1] * X + np.random.normal(scale=sigma, size=SAMPLE_SIZE)\n",
    "    \n",
    "    # Add intercept term to X for linear regression\n",
    "    X_design = np.vstack([np.ones(SAMPLE_SIZE), X]).T\n",
    "    \n",
    "    # Fit the linear regression model to obtain beta estimates\n",
    "    model = LinearRegression(fit_intercept=False)\n",
    "    model.fit(X_design, Y)\n",
    "    beta_hat = model.coef_\n",
    "    \n",
    "    # Compute (X^T X)^-1 for standard errors\n",
    "    XtX_inv = np.linalg.inv(X_design.T @ X_design)\n",
    "    standard_errors = np.sqrt(np.diag(sigma**2 * XtX_inv))\n",
    "    \n",
    "    # Compute the standardized differences (z-scores)\n",
    "    beta_diff = (beta_hat - true_beta) / standard_errors\n",
    "    beta_hist.extend(beta_diff)  # add both intercept and slope differences to the histogram data\n",
    "\n",
    "xs = np.linspace(-10,10,1000)\n",
    "fig, ax = plt.subplots()\n",
    "ax.hist(beta_hist, bins=100, density=True)\n",
    "ax.plot(xs, norm.pdf(xs, 0, 1), color='green')\n",
    "plt.show()"
   ]
  },
  {
   "cell_type": "markdown",
   "metadata": {},
   "source": [
    "#### FORM Q1\n",
    "\n",
    "Use the CDF of a standard normal distribution, to provide the probability that the following dataset's true slope is greater than 0. Assume that $\\sigma^2 = 1$"
   ]
  },
  {
   "cell_type": "code",
   "execution_count": 12,
   "metadata": {},
   "outputs": [
    {
     "name": "stdout",
     "output_type": "stream",
     "text": [
      "0.534308168985353\n"
     ]
    },
    {
     "data": {
      "image/png": "[encoded data removed]",
      "text/plain": [
       "<Figure size 432x288 with 1 Axes>"
      ]
     },
     "metadata": {
      "needs_background": "light"
     },
     "output_type": "display_data"
    }
   ],
   "source": [
    "from scipy.stats import norm\n",
    "\n",
    "x = np.array([-0.1920605, -0.11290798, -0.56434374, -0.67052057, -0.19233284, -0.42403586, -0.8114285, -0.38986946, -0.37384161, -0.50930229])\n",
    "y = np.array([-0.34063108, -0.33409286, 0.34245857, 0.11062295, 0.76682389, 0.86592388, -1.68912015, -2.01463592, 1.61798563, 0.60557414])\n",
    "\n",
    "intercept = np.ones(np.shape(x)[0])\n",
    "X = np.array([intercept, x]).T\n",
    "beta_hat = np.linalg.inv(X.T @ X) @ X.T @ y\n",
    "\n",
    "z = beta_hat[1]/((X.T @ X)[1][1])\n",
    "print(z)\n",
    "\n",
    "x = np.linspace(-4, 4, 1000)\n",
    "pdf = norm.pdf(x, loc=0, scale=1)\n",
    "\n",
    "fig, ax = plt.subplots()\n",
    "ax.plot(x, pdf, color=\"blue\")\n",
    "x_fill = np.linspace(z, 4, 1000)\n",
    "pdf_fill = norm.pdf(x_fill, loc=0, scale=1)\n",
    "ax.fill_between(x_fill, pdf_fill, color=\"orange\", alpha=0.5, label=f\"Area to the right of {z}\")\n",
    "plt.show()"
   ]
  },
  {
   "cell_type": "markdown",
   "metadata": {},
   "source": [
    "In practice we don't know the standard deviation and need to use an unbiased estimate of the standard deviation instead. This estimate is the standard error `s`\n",
    "\n",
    "$$s = \\sqrt{\\frac{RSS}{n - p}}$$\n",
    "\n",
    "where p is the number of parameters beta (here there are 2 - one slope and one intercept). This normalized $\\hat\\beta$ can be shown to follow a t-distribution with `n-p` degrees of freedom. Verify this is the case with a simulation."
   ]
  },
  {
   "cell_type": "code",
   "execution_count": 18,
   "metadata": {},
   "outputs": [
    {
     "data": {
      "image/png": "[encoded data removed]",
      "text/plain": [
       "<Figure size 432x288 with 1 Axes>"
      ]
     },
     "metadata": {
      "needs_background": "light"
     },
     "output_type": "display_data"
    }
   ],
   "source": [
    "from scipy.stats import t\n",
    "\n",
    "def standard_error(ytrue, ypred, X):\n",
    "    RSS = np.sum((ytrue - ypred) ** 2)\n",
    "    return np.sqrt(RSS / (len(ytrue) - X.shape[1]))\n",
    "\n",
    "beta_hist = []\n",
    "for _ in range(1000):\n",
    "    # Generate random data\n",
    "    x = -10 + 20 * np.random.random(SAMPLE_SIZE)\n",
    "    y = true_beta[0] + true_beta[1] * x + np.random.normal(scale=1, size=SAMPLE_SIZE)\n",
    "    \n",
    "    # Add intercept term\n",
    "    X = np.vstack([np.ones(SAMPLE_SIZE), x]).T\n",
    "    \n",
    "    # Estimate beta using least squares\n",
    "    beta_hat = np.linalg.inv(X.T @ X) @ X.T @ y\n",
    "    \n",
    "    # Predictions and standard error calculation\n",
    "    y_pred = X @ beta_hat\n",
    "    s = standard_error(y, y_pred, X)\n",
    "    \n",
    "    # Calculate the normalized beta_hat for the slope component\n",
    "    slope_se = s * np.sqrt(np.linalg.inv(X.T @ X)[1, 1])\n",
    "    t_value = (beta_hat[1] - true_beta[1]) / slope_se\n",
    "    beta_hist.append(t_value)\n",
    "\n",
    "xs = np.linspace(-10,10,1000)\n",
    "fig, ax = plt.subplots()\n",
    "ax.hist(beta_hist, bins=100, density=True)\n",
    "ax.plot(xs, t.pdf(xs, SAMPLE_SIZE - 2), color='red')\n",
    "plt.show()"
   ]
  },
  {
   "cell_type": "markdown",
   "metadata": {},
   "source": [
    "#### FORM Q2\n",
    "\n",
    "Use a t distribution to provide the probability that the following dataset's true slope is greater than 0"
   ]
  },
  {
   "cell_type": "code",
   "execution_count": 19,
   "metadata": {},
   "outputs": [
    {
     "name": "stdout",
     "output_type": "stream",
     "text": [
      "Slope Estimate: 1.1990282719906205\n",
      "Standard Error of Slope: 1.7523026381576574\n",
      "t-Statistic: 0.6842586696389725\n",
      "p-value (Probability true slope > 0): 0.2565710360452875\n"
     ]
    }
   ],
   "source": [
    "import numpy as np\n",
    "import matplotlib.pyplot as plt\n",
    "\n",
    "x = np.array([-0.1920605, -0.11290798, -0.56434374, -0.67052057, -0.19233284, -0.42403586, -0.8114285, -0.38986946, -0.37384161, -0.50930229])\n",
    "y = np.array([-0.34063108, -0.33409286, 0.34245857, 0.11062295, 0.76682389, 0.86592388, -1.68912015, -2.01463592, 1.61798563, 0.60557414])\n",
    "\n",
    "# Adding intercept to X\n",
    "X = np.vstack([np.ones(len(x)), x]).T\n",
    "\n",
    "# Estimate beta (slope and intercept) using least squares\n",
    "beta_hat = np.linalg.inv(X.T @ X) @ X.T @ y\n",
    "slope_estimate = beta_hat[1]\n",
    "\n",
    "# Calculate residuals and standard error of the slope\n",
    "y_pred = X @ beta_hat\n",
    "residuals = y - y_pred\n",
    "RSS = np.sum(residuals ** 2)\n",
    "s_squared = RSS / (len(y) - X.shape[1])  # Mean square error\n",
    "slope_se = np.sqrt(s_squared * np.linalg.inv(X.T @ X)[1, 1])\n",
    "\n",
    "# Compute t-statistic for the slope\n",
    "t_stat = slope_estimate / slope_se\n",
    "\n",
    "# Degrees of freedom\n",
    "df = len(y) - 2\n",
    "\n",
    "# Calculate the one-sided p-value (right tail)\n",
    "p_value = 1 - t.cdf(t_stat, df)\n",
    "\n",
    "print(\"Slope Estimate:\", slope_estimate)\n",
    "print(\"Standard Error of Slope:\", slope_se)\n",
    "print(\"t-Statistic:\", t_stat)\n",
    "print(\"p-value (Probability true slope > 0):\", p_value)"
   ]
  },
  {
   "cell_type": "code",
   "execution_count": null,
   "metadata": {},
   "outputs": [],
   "source": []
  }
 ],
 "metadata": {
  "kernelspec": {
   "display_name": "base",
   "language": "python",
   "name": "python3"
  },
  "language_info": {
   "codemirror_mode": {
    "name": "ipython",
    "version": 3
   },
   "file_extension": ".py",
   "mimetype": "text/x-python",
   "name": "python",
   "nbconvert_exporter": "python",
   "pygments_lexer": "ipython3",
   "version": "3.9.7"
  },
  "orig_nbformat": 4
 },
 "nbformat": 4,
 "nbformat_minor": 2
}
